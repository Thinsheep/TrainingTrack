{
  "nbformat": 4,
  "nbformat_minor": 0,
  "metadata": {
    "colab": {
      "name": "Deep_NeuralNetwork.ipynb",
      "provenance": [],
      "authorship_tag": "ABX9TyNFjxwcFNeQOTRkIkjj/TlE",
      "include_colab_link": true
    },
    "kernelspec": {
      "name": "python3",
      "display_name": "Python 3"
    }
  },
  "cells": [
    {
      "cell_type": "markdown",
      "metadata": {
        "id": "view-in-github",
        "colab_type": "text"
      },
      "source": [
        "<a href=\"https://colab.research.google.com/github/Thinsheep/TrainingTrack/blob/main/Deep_NeuralNetwork.ipynb\" target=\"_parent\"><img src=\"https://colab.research.google.com/assets/colab-badge.svg\" alt=\"Open In Colab\"/></a>"
      ]
    },
    {
      "cell_type": "code",
      "metadata": {
        "id": "_Mu_zeGqVi0K"
      },
      "source": [
        "import numpy as np\n",
        "import matplotlib.pyplot as plt\n",
        "from sklearn import datasets\n",
        "import keras\n",
        "from keras.models import Sequential\n",
        "from keras.layers import Dense\n",
        "from keras.optimizers import Adam"
      ],
      "execution_count": null,
      "outputs": []
    },
    {
      "cell_type": "code",
      "metadata": {
        "id": "x5wK3BmvWwtQ"
      },
      "source": [
        "np.random.seed(0)"
      ],
      "execution_count": null,
      "outputs": []
    },
    {
      "cell_type": "code",
      "metadata": {
        "id": "H1nU7VODWVS_",
        "colab": {
          "base_uri": "https://localhost:8080/"
        },
        "outputId": "f18d4d75-f738-4f5a-e13e-d1ee9616c381"
      },
      "source": [
        "n_pts = 500\n",
        "X, y = datasets.make_circles(n_samples = n_pts, random_state= 123, noise = 0.1, factor = 0.2) \n",
        "# the diameter of inner circle 20% of outer circle.\n",
        "# a high noise (ex: 0.8) will cause the datap points to become overly convoluted, making a lot harder\n",
        "#to classify the data, you want to ensure that the noise is kept relatively low (Ex:0.1)\n",
        "print(X)\n",
        "print(y)\n"
      ],
      "execution_count": null,
      "outputs": [
        {
          "output_type": "stream",
          "text": [
            "[[ 6.98553633e-01 -3.78289607e-01]\n",
            " [-2.48422424e-01  1.91071221e-01]\n",
            " [-1.78759035e-01  2.53697475e-01]\n",
            " [-7.30467124e-03 -2.59266690e-01]\n",
            " [-1.59844140e-01  2.66915921e-01]\n",
            " [-8.01071690e-01 -1.08656135e-01]\n",
            " [ 1.00816914e+00  2.07309295e-01]\n",
            " [ 4.39780516e-02 -2.80236072e-01]\n",
            " [-8.34853704e-02 -1.38114367e-01]\n",
            " [-9.88928208e-01 -9.26102014e-02]\n",
            " [ 8.83638650e-02  1.96647051e-01]\n",
            " [ 2.22010570e-01  5.62848283e-02]\n",
            " [ 7.74176833e-01  8.22258534e-01]\n",
            " [ 6.42098042e-02  1.77475658e-01]\n",
            " [ 3.29904597e-01 -6.76348560e-02]\n",
            " [ 9.37162087e-01  2.05987221e-01]\n",
            " [-2.00792169e-01  5.35547075e-02]\n",
            " [ 5.32997317e-02 -2.82138380e-01]\n",
            " [-9.93783900e-02 -3.28183801e-01]\n",
            " [ 1.02684872e+00 -2.66939738e-01]\n",
            " [-8.69193490e-01  6.85448273e-01]\n",
            " [-6.70339467e-03  2.44518907e-01]\n",
            " [ 2.31538284e-02 -8.12416827e-01]\n",
            " [ 1.03822075e-01  1.19298417e-01]\n",
            " [-9.57389366e-01 -3.49206448e-01]\n",
            " [-7.98982279e-02  2.30581375e-01]\n",
            " [ 1.31496662e-01  4.30585961e-02]\n",
            " [ 3.68169092e-02  9.51356467e-01]\n",
            " [ 6.71357733e-01 -8.52005557e-01]\n",
            " [-5.92423995e-01 -9.06468126e-01]\n",
            " [-2.03368923e-01  1.79751566e-02]\n",
            " [-6.39843083e-01  1.01623139e+00]\n",
            " [ 1.51660391e-01  5.94450475e-02]\n",
            " [ 5.27858756e-01  6.93188232e-01]\n",
            " [ 4.79252004e-02  6.57038408e-02]\n",
            " [ 2.38228127e-02  3.65960131e-01]\n",
            " [-2.51639758e-01 -1.11085978e+00]\n",
            " [-1.59722439e-01  2.27662525e-01]\n",
            " [ 6.33957120e-01  8.05109457e-01]\n",
            " [-2.37411050e-01  1.49990918e-01]\n",
            " [-1.65688002e-02 -3.73661233e-02]\n",
            " [ 1.01648364e+00  2.44963513e-01]\n",
            " [ 1.77752937e-01 -9.74138227e-01]\n",
            " [ 2.65603693e-01 -1.15903425e-01]\n",
            " [ 2.35184982e-01  1.00340667e+00]\n",
            " [ 9.78814310e-02  1.72914494e-01]\n",
            " [ 9.67468497e-01  2.56254993e-01]\n",
            " [-8.86839308e-03 -1.09688449e+00]\n",
            " [ 6.92954011e-01  4.78986050e-01]\n",
            " [-5.05312936e-01  8.93231542e-01]\n",
            " [ 3.41167501e-02  2.40601111e-01]\n",
            " [-1.12643872e-01 -1.05994125e+00]\n",
            " [ 1.03599760e+00  4.37050446e-01]\n",
            " [-9.71896141e-01  2.51453631e-01]\n",
            " [-1.55737365e-02 -1.58308310e-01]\n",
            " [-1.65925674e-02 -1.75067405e-01]\n",
            " [ 5.72863381e-03  2.23124956e-01]\n",
            " [-4.35038380e-02 -1.79867981e-02]\n",
            " [ 1.38284086e-01  8.51370719e-01]\n",
            " [-9.85430381e-01 -7.73417607e-02]\n",
            " [ 7.71991270e-01 -3.87529307e-01]\n",
            " [ 1.49387776e-01 -5.18991328e-02]\n",
            " [-2.70729970e-01  9.83602879e-01]\n",
            " [-4.00015179e-02  2.47414148e-01]\n",
            " [-9.69925519e-02 -1.45832531e-01]\n",
            " [-7.21136859e-01 -6.17806278e-01]\n",
            " [-2.89497883e-01  7.27324154e-01]\n",
            " [-5.17814228e-01 -7.55271308e-01]\n",
            " [-6.25730470e-01 -9.39072776e-01]\n",
            " [-3.30765557e-02 -1.07443577e+00]\n",
            " [-4.13343428e-01 -7.53129685e-01]\n",
            " [ 7.35328804e-01  6.23359303e-01]\n",
            " [-9.38256312e-01  7.19285593e-01]\n",
            " [-1.63116850e-01 -1.91057029e-01]\n",
            " [ 6.78593450e-02  3.18721027e-01]\n",
            " [-8.83259615e-01  2.73176070e-01]\n",
            " [ 5.11336426e-01  9.74002788e-01]\n",
            " [-5.20378560e-01 -8.25602563e-01]\n",
            " [-2.37592741e-01  4.10904288e-02]\n",
            " [ 8.89802469e-01 -6.13392358e-01]\n",
            " [-3.23413730e-01 -3.84619815e-03]\n",
            " [-3.30175910e-02  4.65226243e-02]\n",
            " [-1.76481109e-01 -6.20656523e-02]\n",
            " [ 8.59385281e-01 -8.88993093e-02]\n",
            " [-1.08607584e-01  1.95421515e-01]\n",
            " [ 6.87639987e-02 -3.28855627e-02]\n",
            " [-8.19824527e-02  1.10257588e+00]\n",
            " [ 1.15648063e-01 -1.54230358e-02]\n",
            " [-2.24516011e-01  1.36584273e-01]\n",
            " [-9.01696660e-01 -1.71596005e-02]\n",
            " [-8.16953009e-01 -3.75868971e-01]\n",
            " [ 1.01481955e+00 -3.30066894e-01]\n",
            " [ 5.60092235e-01  1.01942929e+00]\n",
            " [ 1.61437921e-01 -8.98646058e-01]\n",
            " [ 5.16481410e-01  7.99341635e-01]\n",
            " [ 1.33791382e-01  8.51433234e-02]\n",
            " [-1.08137410e+00  4.15676528e-01]\n",
            " [ 9.60801657e-02  2.98282492e-02]\n",
            " [-4.27850323e-01  2.39325920e-01]\n",
            " [ 1.71392647e-01  3.23390600e-02]\n",
            " [ 3.91240709e-01 -8.55483856e-01]\n",
            " [ 2.86871002e-01 -2.47307112e-01]\n",
            " [ 7.37790609e-01 -4.82815600e-01]\n",
            " [-8.11467833e-01  6.58862570e-01]\n",
            " [ 1.06985211e-01  1.03405613e+00]\n",
            " [ 6.88685243e-02  1.96534463e-01]\n",
            " [-1.00159001e-01  1.36645203e-01]\n",
            " [-7.39848623e-02  1.40166448e-01]\n",
            " [-7.55513190e-01 -5.91588659e-01]\n",
            " [ 1.92646036e-01  3.22343490e-01]\n",
            " [ 2.45444537e-02  1.03812966e-01]\n",
            " [-6.72617027e-02 -1.95361833e-01]\n",
            " [ 1.44500288e-01  1.58225214e-01]\n",
            " [ 4.05092197e-01 -1.01785246e+00]\n",
            " [ 8.91149144e-01  5.68504207e-02]\n",
            " [-1.40699077e-01 -7.05740127e-02]\n",
            " [-8.07149247e-01 -5.22017771e-01]\n",
            " [-2.09716680e-01 -2.72595612e-01]\n",
            " [ 2.61233665e-02  1.46168977e-01]\n",
            " [-8.53856158e-01 -5.46503376e-01]\n",
            " [ 1.47939447e-01 -1.10929770e+00]\n",
            " [ 2.50701635e-01  1.41451930e-01]\n",
            " [ 9.22883687e-01  3.39964225e-01]\n",
            " [-9.48056471e-01  1.33592776e-01]\n",
            " [ 9.19620605e-01 -3.88833270e-01]\n",
            " [ 2.43962647e-01 -1.69700993e-01]\n",
            " [-1.95092844e-01  1.83406762e-02]\n",
            " [-1.73632089e-02  3.13899311e-02]\n",
            " [-1.27834346e-01 -6.09913432e-02]\n",
            " [-2.33049668e-01  1.55284110e-01]\n",
            " [-4.21118424e-01 -1.81906487e-02]\n",
            " [-2.08339884e-01  4.88774580e-02]\n",
            " [-7.35262188e-02 -1.98163382e-01]\n",
            " [-6.43424508e-02 -3.69366101e-01]\n",
            " [ 8.27342565e-01  6.34373498e-01]\n",
            " [ 1.10390428e+00 -1.07414057e-01]\n",
            " [ 9.70739456e-01  5.37949000e-01]\n",
            " [ 1.59531447e-01 -8.24087613e-02]\n",
            " [-7.45202744e-01 -8.00964052e-01]\n",
            " [ 8.96686702e-03 -8.55866588e-01]\n",
            " [-2.09877482e-01 -1.15550595e-01]\n",
            " [-3.78108447e-01  9.96960001e-01]\n",
            " [-6.47170467e-01 -7.77601780e-01]\n",
            " [ 4.33864344e-02 -1.57128628e-01]\n",
            " [-8.69404585e-01  1.97800335e-01]\n",
            " [-1.59933522e-01 -1.70802676e-01]\n",
            " [-4.63602512e-01  7.73399613e-01]\n",
            " [-2.75799680e-01 -1.25030347e-01]\n",
            " [ 2.70197927e-01 -8.46952682e-02]\n",
            " [ 5.21079561e-02 -8.33917930e-02]\n",
            " [ 5.72850486e-01 -9.96643406e-01]\n",
            " [ 3.19710062e-01  1.09870071e+00]\n",
            " [ 1.94860260e-02 -9.68141477e-01]\n",
            " [-8.81101575e-02  3.26778860e-01]\n",
            " [ 3.49691771e-01 -9.15456350e-01]\n",
            " [-7.74597516e-01 -8.42087481e-01]\n",
            " [ 2.66530130e-01 -2.23707759e-01]\n",
            " [-7.49857793e-01  4.24806646e-01]\n",
            " [ 1.25068864e-01  1.36809578e-01]\n",
            " [ 3.68787367e-02  2.13132875e-01]\n",
            " [ 3.71114555e-02 -2.29953827e-01]\n",
            " [-1.00920827e-01 -1.35795806e-01]\n",
            " [ 5.42433891e-01 -6.97934539e-01]\n",
            " [ 3.67548797e-01 -1.06580906e+00]\n",
            " [ 2.44323991e-01 -1.00970254e-01]\n",
            " [-1.04339350e-01 -8.71186250e-02]\n",
            " [ 9.28417746e-01  1.12252556e-01]\n",
            " [-8.47753756e-01 -4.30556040e-01]\n",
            " [-2.50858014e-01 -9.74498007e-01]\n",
            " [-2.04844936e-01 -2.40969940e-02]\n",
            " [ 3.03795587e-01 -9.90515315e-01]\n",
            " [ 1.84818297e-01  1.88627440e-01]\n",
            " [ 1.21872718e-01  3.46058152e-02]\n",
            " [-4.17246950e-01 -9.17211014e-01]\n",
            " [-1.60258087e-01 -2.90643161e-01]\n",
            " [-6.32720712e-02 -1.01213974e-01]\n",
            " [-1.89839739e-01  9.51583258e-02]\n",
            " [ 2.80029222e-01  6.20933377e-02]\n",
            " [ 6.83538660e-01 -4.85568235e-01]\n",
            " [ 1.91210618e-01 -2.38884160e-02]\n",
            " [-6.07575379e-01 -9.41583558e-01]\n",
            " [-5.65253244e-02 -9.07832980e-02]\n",
            " [ 2.50580006e-01  1.30020176e-04]\n",
            " [ 9.60192465e-01 -3.84858897e-01]\n",
            " [ 6.55816744e-01  8.00703278e-01]\n",
            " [-1.50594303e-01 -8.47891053e-02]\n",
            " [-1.05852208e-01 -9.88911066e-01]\n",
            " [ 4.03309131e-02 -3.45660282e-02]\n",
            " [ 8.86881756e-01  2.36540316e-01]\n",
            " [-4.32917045e-02 -1.37674229e-01]\n",
            " [ 1.14342769e-01  3.15068553e-01]\n",
            " [ 8.93850414e-01  8.56093965e-01]\n",
            " [-9.11568321e-01 -6.07775706e-01]\n",
            " [-7.03976829e-02  1.29558586e-02]\n",
            " [ 3.60228510e-01 -8.71496932e-01]\n",
            " [-8.54096946e-01 -5.57396904e-01]\n",
            " [ 2.26226894e-01  1.79288963e-01]\n",
            " [ 1.06894673e+00 -1.44014727e-01]\n",
            " [ 8.29651873e-02 -2.17643221e-01]\n",
            " [-1.93495224e-01 -1.31591969e-01]\n",
            " [-1.16368196e-01  2.37731073e-01]\n",
            " [ 2.17796350e-01 -1.15365269e-01]\n",
            " [-6.06006501e-01  8.81085208e-01]\n",
            " [-8.79052518e-01  4.71944516e-01]\n",
            " [-2.98845015e-01 -2.94629071e-02]\n",
            " [ 9.44791015e-01 -6.28722863e-01]\n",
            " [ 6.78503194e-01  8.96850071e-01]\n",
            " [ 8.91981156e-01  3.64729998e-01]\n",
            " [ 9.07279299e-01  7.04104011e-01]\n",
            " [-4.04882841e-01  1.00236175e+00]\n",
            " [ 2.19224701e-01 -2.41420372e-01]\n",
            " [ 7.25728010e-01 -5.59935364e-01]\n",
            " [-3.01076144e-01 -1.19114081e-01]\n",
            " [ 6.37864146e-02 -1.73090400e-01]\n",
            " [-2.33004484e-01  1.00734767e+00]\n",
            " [-7.93573229e-01  6.40383621e-01]\n",
            " [ 2.26100059e-01 -2.44508101e-02]\n",
            " [ 2.73363278e-01 -3.26894080e-02]\n",
            " [ 7.14608653e-01  6.56218039e-01]\n",
            " [-1.03550053e+00  1.09511190e-01]\n",
            " [-2.45811458e-01  1.03326109e+00]\n",
            " [ 7.02606282e-01 -6.94979532e-01]\n",
            " [ 2.13408592e-01  1.32878965e+00]\n",
            " [ 8.11378890e-01  5.21342508e-01]\n",
            " [-5.98895511e-01 -8.23702277e-01]\n",
            " [-9.31531975e-01 -4.87833085e-01]\n",
            " [-1.00103854e-01 -2.08194641e-01]\n",
            " [-1.67155371e-01 -1.48365983e-01]\n",
            " [-5.19719682e-01 -8.72947187e-01]\n",
            " [ 6.37935645e-02 -5.21963893e-02]\n",
            " [-4.89431011e-01 -7.27595019e-01]\n",
            " [-2.22433117e-01 -7.52029030e-03]\n",
            " [-5.24259539e-01  7.15172810e-01]\n",
            " [-2.03994817e-02 -1.69047235e-01]\n",
            " [ 3.51623611e-01 -7.34175327e-01]\n",
            " [ 1.06193989e-02 -1.01030106e-01]\n",
            " [ 1.23002724e-01 -1.51243648e-01]\n",
            " [ 2.46417106e-02 -3.14763607e-01]\n",
            " [ 1.14025569e-02 -8.32798197e-02]\n",
            " [-1.01819940e-01 -1.95826410e-01]\n",
            " [-3.87139692e-01 -1.08595474e-01]\n",
            " [ 7.71309282e-01 -9.06562707e-03]\n",
            " [ 4.29177210e-01  7.44544202e-02]\n",
            " [ 6.98933873e-01 -8.82384223e-01]\n",
            " [ 9.37467905e-01 -2.68141079e-01]\n",
            " [ 7.69258406e-01 -3.55506485e-01]\n",
            " [ 2.34637786e-01 -1.98093662e-01]\n",
            " [ 9.79013320e-01 -2.54453960e-01]\n",
            " [ 1.57690735e-02 -1.97687621e-02]\n",
            " [-1.06489202e+00 -1.43215482e-01]\n",
            " [-1.40540687e-01 -1.92612401e-01]\n",
            " [-3.76683097e-01 -9.52729988e-01]\n",
            " [-1.03540602e+00 -3.59715766e-01]\n",
            " [ 7.83407917e-02  5.37520985e-02]\n",
            " [-7.79465567e-01 -7.12255804e-01]\n",
            " [ 2.45821521e-02  5.11484193e-02]\n",
            " [ 9.13876597e-01 -2.48697440e-01]\n",
            " [-4.37895972e-01  7.03968506e-01]\n",
            " [-1.07191971e+00  2.16533415e-01]\n",
            " [ 7.05538884e-01  6.73037277e-01]\n",
            " [ 7.70761470e-02 -2.49516324e-01]\n",
            " [-9.79850656e-02  1.14097102e-03]\n",
            " [-4.94662322e-03  2.12058665e-01]\n",
            " [-1.03861694e-01  1.16225060e+00]\n",
            " [-8.04865864e-01  3.99535042e-01]\n",
            " [ 8.37608542e-02 -1.62852199e-01]\n",
            " [ 3.28189548e-01  8.46762868e-01]\n",
            " [-5.41543562e-01  6.05526304e-01]\n",
            " [ 8.67997814e-01 -4.25740169e-01]\n",
            " [ 2.79270430e-02 -3.17120417e-01]\n",
            " [-8.56878561e-02 -8.84206506e-02]\n",
            " [-5.11705335e-02  2.87730884e-01]\n",
            " [ 6.80732096e-01 -5.76567471e-01]\n",
            " [-5.34835192e-01 -9.86830887e-01]\n",
            " [ 2.75075147e-01 -6.59278442e-02]\n",
            " [ 1.12942199e+00  2.64243067e-01]\n",
            " [-9.91525824e-01  2.03723127e-01]\n",
            " [-1.62369285e-01 -9.44327880e-02]\n",
            " [ 9.03939849e-01 -4.11392763e-02]\n",
            " [-1.00176402e+00 -3.15254710e-01]\n",
            " [-1.16674118e-02 -1.72351898e-01]\n",
            " [ 6.75055893e-03  1.98512452e-01]\n",
            " [ 1.69494948e-01 -1.74226531e-01]\n",
            " [ 1.55589730e-01 -1.86841266e-01]\n",
            " [-1.10492348e-01 -2.74190944e-01]\n",
            " [ 6.73979865e-01 -6.87489210e-01]\n",
            " [-2.39107159e-02  1.48948649e-01]\n",
            " [ 1.45966058e-01  3.35578482e-02]\n",
            " [-1.91719421e-01 -3.12477829e-01]\n",
            " [ 1.00854458e+00 -4.92118302e-01]\n",
            " [ 9.50624311e-01  2.32346304e-01]\n",
            " [ 8.75586872e-01  6.37639406e-01]\n",
            " [-7.40836819e-02  3.20728541e-01]\n",
            " [ 4.36087217e-01 -9.91554759e-01]\n",
            " [-1.08213425e+00  1.67996479e-01]\n",
            " [-1.53494334e-01  9.36452815e-01]\n",
            " [-5.20495175e-01 -6.86492694e-01]\n",
            " [ 1.15072388e-01 -1.08387963e+00]\n",
            " [-1.11191740e+00 -4.76430474e-01]\n",
            " [ 6.76421412e-02 -2.65777840e-01]\n",
            " [-7.61250864e-01  3.26797385e-01]\n",
            " [-1.00323195e+00  7.29658180e-01]\n",
            " [ 2.37090675e-02 -1.29359946e-01]\n",
            " [-1.24202057e-01 -2.49347304e-02]\n",
            " [-1.27546787e-01 -6.35470862e-02]\n",
            " [-1.04041508e+00  4.04797772e-01]\n",
            " [ 2.37457112e-01  1.26496982e-01]\n",
            " [ 1.97437357e-01  1.82488908e-01]\n",
            " [ 1.68999167e-01 -1.02519607e+00]\n",
            " [-1.02635932e+00  6.36336315e-02]\n",
            " [-3.77971656e-02 -2.91694860e-02]\n",
            " [-7.39593792e-01  7.67501624e-01]\n",
            " [-1.68331259e-01 -1.89212785e-01]\n",
            " [ 1.20903389e-01 -1.01784856e+00]\n",
            " [-6.75911382e-02  9.48615983e-01]\n",
            " [ 1.25942038e-01  2.11393133e-03]\n",
            " [-2.31180418e-01 -8.49632026e-01]\n",
            " [-9.23963817e-02 -2.18334872e-01]\n",
            " [ 5.21762337e-01  8.73401994e-01]\n",
            " [ 5.44735221e-02  3.26898381e-01]\n",
            " [-1.41719914e-02 -1.73993859e-01]\n",
            " [-1.13339265e+00 -7.66323042e-02]\n",
            " [ 2.11016330e-01  1.05225048e+00]\n",
            " [-7.80902429e-01  4.23439077e-01]\n",
            " [ 2.00696987e-01 -9.94435187e-01]\n",
            " [ 6.85971512e-01 -7.03462004e-01]\n",
            " [ 9.22088120e-01 -1.95754762e-01]\n",
            " [-4.91966869e-01 -1.67749635e-01]\n",
            " [ 8.56764398e-02 -1.60422963e-01]\n",
            " [ 8.84326006e-02 -1.16940855e-01]\n",
            " [-9.01430419e-02  1.11772674e+00]\n",
            " [-1.35647036e-01  9.47410111e-02]\n",
            " [-5.17675496e-01 -9.71668597e-01]\n",
            " [ 1.04443639e+00 -1.03113154e-02]\n",
            " [ 2.20762988e-01 -1.70017156e-01]\n",
            " [ 2.29572703e-01  6.15656755e-02]\n",
            " [ 1.10706729e-01  9.62410264e-02]\n",
            " [-3.85378633e-01 -1.43069249e-01]\n",
            " [ 1.61293097e-01 -8.07130918e-02]\n",
            " [-7.27274574e-01 -7.65748500e-01]\n",
            " [ 7.30447525e-02 -2.17843563e-01]\n",
            " [ 5.88627842e-01  9.86432202e-01]\n",
            " [-2.16246002e-02 -2.06581982e-01]\n",
            " [-1.88847789e-01 -1.89527664e-01]\n",
            " [-6.92650147e-02  1.04031866e+00]\n",
            " [ 4.56532306e-01 -8.98742594e-01]\n",
            " [ 1.12815897e+00  2.71808920e-01]\n",
            " [-3.83677325e-01  9.36750079e-01]\n",
            " [ 1.99946166e-01  1.05459036e+00]\n",
            " [ 1.57492390e-01 -1.77524284e-01]\n",
            " [-1.10711749e+00  1.64823512e-01]\n",
            " [-5.11678873e-02 -1.69342098e-01]\n",
            " [-7.78843507e-02  2.97262469e-01]\n",
            " [-1.05203623e+00 -5.84550565e-01]\n",
            " [-6.39869057e-01  8.65043298e-01]\n",
            " [ 2.05537328e-01 -2.64969453e-01]\n",
            " [ 7.45844329e-02  8.69492404e-02]\n",
            " [-1.30793477e-02  2.46970776e-01]\n",
            " [ 1.96467530e-02  9.31382528e-02]\n",
            " [ 2.46480036e-01 -1.66777638e-01]\n",
            " [-6.26673127e-02  8.20288221e-02]\n",
            " [-1.79794145e-02  8.70418993e-01]\n",
            " [-1.03435440e-01  1.76973507e-01]\n",
            " [-1.26123897e-01  2.29262588e-01]\n",
            " [ 2.23857604e-01  1.71999424e-02]\n",
            " [ 2.72820872e-01  1.07616496e-01]\n",
            " [ 8.20117962e-02  1.44809532e-01]\n",
            " [-4.97361054e-02  2.15546546e-01]\n",
            " [-5.69976282e-02 -2.84134961e-01]\n",
            " [ 4.15329186e-01  1.03347434e+00]\n",
            " [-4.62598978e-01  8.50900348e-01]\n",
            " [-9.93771529e-01  4.10016627e-01]\n",
            " [-7.74909948e-02  1.92743837e-01]\n",
            " [-9.43886346e-01 -2.36145701e-01]\n",
            " [ 8.99956572e-01  4.68578260e-01]\n",
            " [ 1.15934421e-01  1.85563854e-02]\n",
            " [ 2.03652047e-01 -9.19332592e-01]\n",
            " [ 9.57500717e-04 -2.55266396e-01]\n",
            " [-1.05024328e+00  1.56244481e-01]\n",
            " [-3.16936295e-01  1.27659928e-01]\n",
            " [-1.63727798e-01  1.73927027e-01]\n",
            " [-2.44662253e-01  7.03719043e-02]\n",
            " [-1.13850604e-02  2.03294822e-01]\n",
            " [ 8.17440403e-01  7.10450820e-01]\n",
            " [-7.32999577e-01 -5.77334730e-01]\n",
            " [ 2.92872940e-01 -1.03629792e+00]\n",
            " [-3.92253259e-01  7.41141987e-02]\n",
            " [ 1.07195385e+00  3.05480152e-01]\n",
            " [-5.56481074e-01  8.09931577e-01]\n",
            " [ 2.29375064e-01  1.61678485e-01]\n",
            " [ 2.25466643e-01  9.39853093e-02]\n",
            " [ 8.88416165e-01 -6.63522184e-01]\n",
            " [ 1.07687079e+00 -2.57223101e-01]\n",
            " [ 3.55613869e-01  1.18636691e-01]\n",
            " [-2.02179352e-01 -3.29011865e-01]\n",
            " [-1.72815755e-01 -1.74563005e-02]\n",
            " [-8.21031021e-01  6.70291512e-01]\n",
            " [-8.07526618e-01 -5.85070211e-01]\n",
            " [-9.04513317e-01 -3.16077904e-01]\n",
            " [-3.49142796e-01  1.01770500e+00]\n",
            " [ 1.05918664e+00  4.93926421e-02]\n",
            " [-3.72106538e-02  1.34735166e-01]\n",
            " [ 2.39337041e-01  1.21399645e+00]\n",
            " [ 3.27623091e-02  1.24040812e-03]\n",
            " [ 8.76446798e-01 -5.86964581e-01]\n",
            " [-1.38623609e-01  1.40983961e-01]\n",
            " [ 3.54607229e-01  9.90552610e-01]\n",
            " [ 9.35191644e-01  1.82695070e-01]\n",
            " [ 9.74732873e-01  4.65562722e-01]\n",
            " [ 2.00367082e-01  9.85858892e-02]\n",
            " [ 1.87528778e-01 -2.01862712e-01]\n",
            " [ 1.55038201e-01  2.15218184e-01]\n",
            " [ 8.69022439e-01  5.44428525e-01]\n",
            " [-7.53645315e-02 -1.22178655e+00]\n",
            " [-2.91710938e-01  8.42818380e-02]\n",
            " [-1.69937494e-01 -7.55348066e-01]\n",
            " [ 3.03895801e-01  9.16881301e-01]\n",
            " [-8.29373702e-01 -5.22330089e-02]\n",
            " [-2.15069125e-01  2.30603250e-02]\n",
            " [ 1.05597729e+00 -2.30252657e-01]\n",
            " [ 1.86474329e-01  9.41865073e-02]\n",
            " [ 1.44473433e-01  1.05101736e-01]\n",
            " [-2.16363926e-01 -1.70604671e-01]\n",
            " [ 2.68103278e-01  6.10425057e-03]\n",
            " [-7.77611141e-01 -6.92569483e-01]\n",
            " [-2.16780137e-01  7.39526703e-02]\n",
            " [ 1.09406811e-01 -1.38785496e-02]\n",
            " [-1.61085409e-01  1.04649147e+00]\n",
            " [-2.02127908e-01 -1.44675120e-01]\n",
            " [-6.40748132e-01 -6.36740294e-01]\n",
            " [ 1.06171678e-01 -1.73421380e-01]\n",
            " [ 1.67551458e-01 -3.50642017e-01]\n",
            " [ 3.35693713e-01  3.56314086e-01]\n",
            " [-8.16178249e-01 -4.22213354e-01]\n",
            " [ 2.76821121e-01 -9.74283031e-01]\n",
            " [ 2.58274757e-01  1.65592727e-01]\n",
            " [-1.95770036e-01 -6.86290589e-02]\n",
            " [ 4.31596119e-02  1.70548324e-01]\n",
            " [-9.70353809e-02 -1.80088983e-01]\n",
            " [-1.94904541e-01  2.11127748e-01]\n",
            " [ 1.42668409e-01  1.17248569e+00]\n",
            " [-2.09443328e-01  2.47274425e-01]\n",
            " [ 2.62455753e-01 -8.59051985e-02]\n",
            " [-2.87392912e-01 -1.91489748e-01]\n",
            " [-5.15174310e-01 -8.47290313e-01]\n",
            " [-3.48625362e-01  8.81897227e-01]\n",
            " [-1.77503041e-02  2.03937211e-01]\n",
            " [-1.69176779e-02 -2.49949884e-01]\n",
            " [-1.16960502e-01 -7.03904739e-02]\n",
            " [-1.05031095e+00  2.47983471e-01]\n",
            " [ 4.86128262e-01 -8.62010657e-01]\n",
            " [-2.84022135e-02  3.17505280e-02]\n",
            " [-2.67415676e-01  1.40459952e-01]\n",
            " [ 8.09204173e-03 -1.00625425e+00]\n",
            " [-7.88188743e-02  2.60115190e-01]\n",
            " [-1.65867724e-01 -5.20584368e-02]\n",
            " [-8.81623073e-01  4.65409202e-01]\n",
            " [-7.65765970e-02  8.70242992e-02]\n",
            " [-8.35303067e-01 -1.49797356e-01]\n",
            " [-3.46716314e-01 -1.07721046e+00]\n",
            " [ 7.87432212e-02 -2.59708139e-01]\n",
            " [ 2.19690108e-01 -1.55990310e-01]\n",
            " [-6.00562059e-01  8.43427575e-01]\n",
            " [ 2.92841842e-01  1.55886284e-02]\n",
            " [ 6.74713131e-01  7.07239729e-01]\n",
            " [-2.33192512e-01  1.45186279e-01]\n",
            " [ 1.21530709e+00  1.17672930e-01]\n",
            " [-4.00973653e-02 -1.96212152e-01]\n",
            " [ 2.96095156e-02  1.42989320e-01]\n",
            " [ 9.88037620e-02  1.80812836e-01]\n",
            " [-1.67723363e-01  1.11648710e+00]\n",
            " [ 3.21761251e-01 -9.66364289e-01]\n",
            " [ 1.06015873e-01 -1.53696692e-01]\n",
            " [-1.58031163e-01 -1.32117815e-01]\n",
            " [ 3.09085063e-01  1.06669487e-01]\n",
            " [-2.04844119e-01  1.60763541e-01]\n",
            " [-7.83454013e-02  1.81257982e-01]\n",
            " [-7.42411200e-04 -2.18383700e-01]\n",
            " [-9.23101916e-01  3.05319852e-01]\n",
            " [ 8.19097901e-01 -7.15819989e-01]\n",
            " [-1.30370035e-01 -2.69468536e-01]\n",
            " [ 6.37286375e-01  8.75101351e-01]\n",
            " [-1.43301315e-01  9.44116672e-01]\n",
            " [ 3.97072425e-01  7.65633605e-01]\n",
            " [-1.01761342e+00 -9.16862411e-03]\n",
            " [-8.40296123e-01  3.29722054e-01]\n",
            " [-7.02652140e-01  6.95788156e-01]\n",
            " [ 8.35917113e-01 -7.27461170e-01]\n",
            " [ 5.76183846e-01 -6.42799752e-01]\n",
            " [ 2.20179935e-01  1.03988488e+00]\n",
            " [-9.92065426e-01  1.16188458e-01]\n",
            " [-9.82625390e-01  3.01573904e-01]\n",
            " [-5.30935997e-01  9.23976060e-01]\n",
            " [ 9.20888959e-01  5.15771449e-01]\n",
            " [ 9.11451732e-01 -4.77269454e-01]\n",
            " [-6.45713806e-01  7.40928939e-01]\n",
            " [ 1.54897389e-01 -2.23758776e-01]\n",
            " [-1.38035949e-01  1.78181233e-01]\n",
            " [-2.33594005e-01  1.30771621e-01]\n",
            " [-3.61730047e-01  4.33121987e-02]]\n",
            "[0 1 1 1 1 0 0 1 1 0 1 1 0 1 1 0 1 1 1 0 0 1 0 1 0 1 1 0 0 0 1 0 1 0 1 1 0\n",
            " 1 0 1 1 0 0 1 0 1 0 0 0 0 1 0 0 0 1 1 1 1 0 0 0 1 0 1 1 0 0 0 0 0 0 0 0 1\n",
            " 1 0 0 0 1 0 1 1 1 0 1 1 0 1 1 0 0 0 0 0 0 1 0 1 1 1 0 1 0 0 0 1 1 1 0 1 1\n",
            " 1 1 0 0 1 0 1 1 0 0 1 0 0 0 1 1 1 1 1 1 1 1 1 0 0 0 1 0 0 1 0 0 1 0 1 0 1\n",
            " 1 1 0 0 0 1 0 0 1 0 1 1 1 1 0 0 1 1 0 0 0 1 0 1 1 0 1 1 1 1 0 1 0 1 1 0 0\n",
            " 1 0 1 0 1 1 0 0 1 0 0 1 0 1 1 1 1 0 0 1 0 0 0 0 0 1 0 1 1 0 0 1 1 0 0 0 0\n",
            " 0 0 0 0 1 1 0 1 0 1 0 1 0 1 1 1 1 1 1 0 1 0 0 0 1 0 1 0 1 0 0 1 0 1 0 0 0\n",
            " 0 1 1 1 0 0 1 0 0 0 1 1 1 0 0 1 0 0 1 0 0 1 1 1 1 1 0 1 1 1 0 0 0 1 0 0 0\n",
            " 0 0 0 1 0 0 1 1 1 0 1 1 0 0 1 0 1 0 0 1 0 1 0 1 1 0 0 0 0 0 0 1 1 1 0 1 0\n",
            " 0 1 1 1 1 1 0 1 0 1 1 0 0 0 0 0 1 0 1 1 0 0 1 1 1 1 1 1 0 1 1 1 1 1 1 1 0\n",
            " 0 0 1 0 0 1 0 1 0 1 1 1 1 0 0 0 1 0 0 1 1 0 0 1 1 1 0 0 0 0 0 1 0 1 0 1 0\n",
            " 0 0 1 1 1 0 0 1 0 0 0 1 0 1 1 1 1 0 1 1 0 1 0 1 1 1 0 0 1 1 1 1 1 0 1 1 1\n",
            " 0 0 1 1 1 0 0 1 1 0 1 1 0 1 0 0 1 1 0 1 0 1 0 1 1 1 0 0 1 1 1 1 1 1 0 0 1\n",
            " 0 0 0 0 0 0 0 0 0 0 0 0 0 0 0 1 1 1 1]\n"
          ],
          "name": "stdout"
        }
      ]
    },
    {
      "cell_type": "code",
      "metadata": {
        "id": "sXfVSYPEYU5M",
        "colab": {
          "base_uri": "https://localhost:8080/",
          "height": 283
        },
        "outputId": "e55c08b3-cffc-4b29-e46a-d70fd4c805fe"
      },
      "source": [
        "plt.scatter(X[y==0, 0], X[y==0, 1])\n",
        "# label of 0 is the outer region"
      ],
      "execution_count": null,
      "outputs": [
        {
          "output_type": "execute_result",
          "data": {
            "text/plain": [
              "<matplotlib.collections.PathCollection at 0x7efbd5d5bb00>"
            ]
          },
          "metadata": {
            "tags": []
          },
          "execution_count": 36
        },
        {
          "output_type": "display_data",
          "data": {
            "image/png": "[encoded data removed]",
            "text/plain": [
              "<Figure size 432x288 with 1 Axes>"
            ]
          },
          "metadata": {
            "tags": [],
            "needs_background": "light"
          }
        }
      ]
    },
    {
      "cell_type": "code",
      "metadata": {
        "id": "-md_Z20-Yytf",
        "colab": {
          "base_uri": "https://localhost:8080/",
          "height": 283
        },
        "outputId": "1833a191-4bab-4284-dd01-df9d50f91c61"
      },
      "source": [
        "plt.scatter(X[y==0, 0], X[y==0, 1])\n",
        "plt.scatter(X[y==1, 0], X[y==1, 1])\n",
        "# label of 0 is the inner region\n",
        "# this dataset cannot be classified by a single line but a deep neural network"
      ],
      "execution_count": null,
      "outputs": [
        {
          "output_type": "execute_result",
          "data": {
            "text/plain": [
              "<matplotlib.collections.PathCollection at 0x7efbd5beba58>"
            ]
          },
          "metadata": {
            "tags": []
          },
          "execution_count": 37
        },
        {
          "output_type": "display_data",
          "data": {
            "image/png": "[encoded data removed]",
            "text/plain": [
              "<Figure size 432x288 with 1 Axes>"
            ]
          },
          "metadata": {
            "tags": [],
            "needs_background": "light"
          }
        }
      ]
    },
    {
      "cell_type": "code",
      "metadata": {
        "id": "WxAe02_qZG14"
      },
      "source": [
        "model = Sequential()\n",
        "model.add(Dense(4, input_shape=(2,), activation='sigmoid')) # hidden layer with 4 node\n",
        "#input_shape(2,) is the number of nodes in the input layer\n",
        "model.add(Dense(1, activation = 'sigmoid')) # output layer with 1 node\n",
        "model.compile(Adam(lr = 0.01), 'binary_crossentropy', metrics=['accuracy'])\n"
      ],
      "execution_count": null,
      "outputs": []
    },
    {
      "cell_type": "code",
      "metadata": {
        "id": "EpbsrViKpIRq",
        "colab": {
          "base_uri": "https://localhost:8080/"
        },
        "outputId": "fb773720-909b-4b66-b6bc-532c779d01d2"
      },
      "source": [
        "h = model.fit(x=X, y=y, verbose = 1, batch_size = 20, epochs = 100, shuffle = 'true')# to pass the training data\n"
      ],
      "execution_count": null,
      "outputs": [
        {
          "output_type": "stream",
          "text": [
            "Epoch 1/100\n",
            "25/25 [==============================] - 0s 1ms/step - loss: 0.6951 - accuracy: 0.4380\n",
            "Epoch 2/100\n",
            "25/25 [==============================] - 0s 961us/step - loss: 0.6936 - accuracy: 0.6200\n",
            "Epoch 3/100\n",
            "25/25 [==============================] - 0s 1ms/step - loss: 0.6942 - accuracy: 0.4660\n",
            "Epoch 4/100\n",
            "25/25 [==============================] - 0s 879us/step - loss: 0.6923 - accuracy: 0.5320\n",
            "Epoch 5/100\n",
            "25/25 [==============================] - 0s 938us/step - loss: 0.6922 - accuracy: 0.5840\n",
            "Epoch 6/100\n",
            "25/25 [==============================] - 0s 909us/step - loss: 0.6921 - accuracy: 0.5360\n",
            "Epoch 7/100\n",
            "25/25 [==============================] - 0s 935us/step - loss: 0.6910 - accuracy: 0.5680\n",
            "Epoch 8/100\n",
            "25/25 [==============================] - 0s 1ms/step - loss: 0.6907 - accuracy: 0.6080\n",
            "Epoch 9/100\n",
            "25/25 [==============================] - 0s 955us/step - loss: 0.6894 - accuracy: 0.6320\n",
            "Epoch 10/100\n",
            "25/25 [==============================] - 0s 946us/step - loss: 0.6879 - accuracy: 0.6700\n",
            "Epoch 11/100\n",
            "25/25 [==============================] - 0s 876us/step - loss: 0.6860 - accuracy: 0.4360\n",
            "Epoch 12/100\n",
            "25/25 [==============================] - 0s 940us/step - loss: 0.6815 - accuracy: 0.6820\n",
            "Epoch 13/100\n",
            "25/25 [==============================] - 0s 1ms/step - loss: 0.6776 - accuracy: 0.6820\n",
            "Epoch 14/100\n",
            "25/25 [==============================] - 0s 945us/step - loss: 0.6699 - accuracy: 0.6820\n",
            "Epoch 15/100\n",
            "25/25 [==============================] - 0s 992us/step - loss: 0.6589 - accuracy: 0.7740\n",
            "Epoch 16/100\n",
            "25/25 [==============================] - 0s 1ms/step - loss: 0.6455 - accuracy: 0.8280\n",
            "Epoch 17/100\n",
            "25/25 [==============================] - 0s 956us/step - loss: 0.6292 - accuracy: 0.8300\n",
            "Epoch 18/100\n",
            "25/25 [==============================] - 0s 967us/step - loss: 0.6086 - accuracy: 0.8340\n",
            "Epoch 19/100\n",
            "25/25 [==============================] - 0s 980us/step - loss: 0.5874 - accuracy: 0.8480\n",
            "Epoch 20/100\n",
            "25/25 [==============================] - 0s 1ms/step - loss: 0.5638 - accuracy: 0.8420\n",
            "Epoch 21/100\n",
            "25/25 [==============================] - 0s 1ms/step - loss: 0.5403 - accuracy: 0.8420\n",
            "Epoch 22/100\n",
            "25/25 [==============================] - 0s 1ms/step - loss: 0.5170 - accuracy: 0.8480\n",
            "Epoch 23/100\n",
            "25/25 [==============================] - 0s 1ms/step - loss: 0.4950 - accuracy: 0.8480\n",
            "Epoch 24/100\n",
            "25/25 [==============================] - 0s 1ms/step - loss: 0.4733 - accuracy: 0.8660\n",
            "Epoch 25/100\n",
            "25/25 [==============================] - 0s 1ms/step - loss: 0.4532 - accuracy: 0.8680\n",
            "Epoch 26/100\n",
            "25/25 [==============================] - 0s 959us/step - loss: 0.4322 - accuracy: 0.8640\n",
            "Epoch 27/100\n",
            "25/25 [==============================] - 0s 962us/step - loss: 0.4121 - accuracy: 0.8720\n",
            "Epoch 28/100\n",
            "25/25 [==============================] - 0s 839us/step - loss: 0.3924 - accuracy: 0.8840\n",
            "Epoch 29/100\n",
            "25/25 [==============================] - 0s 1ms/step - loss: 0.3747 - accuracy: 0.8980\n",
            "Epoch 30/100\n",
            "25/25 [==============================] - 0s 870us/step - loss: 0.3551 - accuracy: 0.9020\n",
            "Epoch 31/100\n",
            "25/25 [==============================] - 0s 985us/step - loss: 0.3377 - accuracy: 0.9020\n",
            "Epoch 32/100\n",
            "25/25 [==============================] - 0s 1ms/step - loss: 0.3208 - accuracy: 0.9200\n",
            "Epoch 33/100\n",
            "25/25 [==============================] - 0s 890us/step - loss: 0.3043 - accuracy: 0.9300\n",
            "Epoch 34/100\n",
            "25/25 [==============================] - 0s 928us/step - loss: 0.2892 - accuracy: 0.9380\n",
            "Epoch 35/100\n",
            "25/25 [==============================] - 0s 887us/step - loss: 0.2754 - accuracy: 0.9400\n",
            "Epoch 36/100\n",
            "25/25 [==============================] - 0s 879us/step - loss: 0.2613 - accuracy: 0.9660\n",
            "Epoch 37/100\n",
            "25/25 [==============================] - 0s 876us/step - loss: 0.2494 - accuracy: 0.9640\n",
            "Epoch 38/100\n",
            "25/25 [==============================] - 0s 1ms/step - loss: 0.2371 - accuracy: 0.9900\n",
            "Epoch 39/100\n",
            "25/25 [==============================] - 0s 949us/step - loss: 0.2258 - accuracy: 0.9920\n",
            "Epoch 40/100\n",
            "25/25 [==============================] - 0s 1ms/step - loss: 0.2154 - accuracy: 0.9900\n",
            "Epoch 41/100\n",
            "25/25 [==============================] - 0s 1ms/step - loss: 0.2061 - accuracy: 0.9940\n",
            "Epoch 42/100\n",
            "25/25 [==============================] - 0s 847us/step - loss: 0.1971 - accuracy: 0.9960\n",
            "Epoch 43/100\n",
            "25/25 [==============================] - 0s 890us/step - loss: 0.1885 - accuracy: 0.9960\n",
            "Epoch 44/100\n",
            "25/25 [==============================] - 0s 851us/step - loss: 0.1805 - accuracy: 0.9960\n",
            "Epoch 45/100\n",
            "25/25 [==============================] - 0s 978us/step - loss: 0.1730 - accuracy: 0.9960\n",
            "Epoch 46/100\n",
            "25/25 [==============================] - 0s 1ms/step - loss: 0.1659 - accuracy: 0.9960\n",
            "Epoch 47/100\n",
            "25/25 [==============================] - 0s 1ms/step - loss: 0.1592 - accuracy: 0.9960\n",
            "Epoch 48/100\n",
            "25/25 [==============================] - 0s 930us/step - loss: 0.1529 - accuracy: 0.9960\n",
            "Epoch 49/100\n",
            "25/25 [==============================] - 0s 940us/step - loss: 0.1471 - accuracy: 0.9960\n",
            "Epoch 50/100\n",
            "25/25 [==============================] - 0s 868us/step - loss: 0.1417 - accuracy: 0.9960\n",
            "Epoch 51/100\n",
            "25/25 [==============================] - 0s 1ms/step - loss: 0.1359 - accuracy: 0.9960\n",
            "Epoch 52/100\n",
            "25/25 [==============================] - 0s 943us/step - loss: 0.1309 - accuracy: 0.9960\n",
            "Epoch 53/100\n",
            "25/25 [==============================] - 0s 1000us/step - loss: 0.1261 - accuracy: 0.9960\n",
            "Epoch 54/100\n",
            "25/25 [==============================] - 0s 946us/step - loss: 0.1215 - accuracy: 0.9960\n",
            "Epoch 55/100\n",
            "25/25 [==============================] - 0s 863us/step - loss: 0.1173 - accuracy: 0.9960\n",
            "Epoch 56/100\n",
            "25/25 [==============================] - 0s 1ms/step - loss: 0.1131 - accuracy: 0.9960\n",
            "Epoch 57/100\n",
            "25/25 [==============================] - 0s 1ms/step - loss: 0.1092 - accuracy: 0.9960\n",
            "Epoch 58/100\n",
            "25/25 [==============================] - 0s 1ms/step - loss: 0.1053 - accuracy: 0.9960\n",
            "Epoch 59/100\n",
            "25/25 [==============================] - 0s 1ms/step - loss: 0.1019 - accuracy: 0.9960\n",
            "Epoch 60/100\n",
            "25/25 [==============================] - 0s 921us/step - loss: 0.0986 - accuracy: 0.9960\n",
            "Epoch 61/100\n",
            "25/25 [==============================] - 0s 1ms/step - loss: 0.0955 - accuracy: 0.9960\n",
            "Epoch 62/100\n",
            "25/25 [==============================] - 0s 1000us/step - loss: 0.0923 - accuracy: 0.9980\n",
            "Epoch 63/100\n",
            "25/25 [==============================] - 0s 1ms/step - loss: 0.0894 - accuracy: 0.9960\n",
            "Epoch 64/100\n",
            "25/25 [==============================] - 0s 946us/step - loss: 0.0867 - accuracy: 0.9980\n",
            "Epoch 65/100\n",
            "25/25 [==============================] - 0s 854us/step - loss: 0.0840 - accuracy: 0.9980\n",
            "Epoch 66/100\n",
            "25/25 [==============================] - 0s 1ms/step - loss: 0.0816 - accuracy: 0.9980\n",
            "Epoch 67/100\n",
            "25/25 [==============================] - 0s 971us/step - loss: 0.0792 - accuracy: 0.9980\n",
            "Epoch 68/100\n",
            "25/25 [==============================] - 0s 1ms/step - loss: 0.0768 - accuracy: 0.9980\n",
            "Epoch 69/100\n",
            "25/25 [==============================] - 0s 867us/step - loss: 0.0745 - accuracy: 0.9980\n",
            "Epoch 70/100\n",
            "25/25 [==============================] - 0s 927us/step - loss: 0.0725 - accuracy: 0.9980\n",
            "Epoch 71/100\n",
            "25/25 [==============================] - 0s 972us/step - loss: 0.0704 - accuracy: 0.9980\n",
            "Epoch 72/100\n",
            "25/25 [==============================] - 0s 1ms/step - loss: 0.0686 - accuracy: 0.9980\n",
            "Epoch 73/100\n",
            "25/25 [==============================] - 0s 1ms/step - loss: 0.0668 - accuracy: 0.9980\n",
            "Epoch 74/100\n",
            "25/25 [==============================] - 0s 1ms/step - loss: 0.0649 - accuracy: 0.9980\n",
            "Epoch 75/100\n",
            "25/25 [==============================] - 0s 905us/step - loss: 0.0632 - accuracy: 1.0000\n",
            "Epoch 76/100\n",
            "25/25 [==============================] - 0s 909us/step - loss: 0.0616 - accuracy: 1.0000\n",
            "Epoch 77/100\n",
            "25/25 [==============================] - 0s 1ms/step - loss: 0.0602 - accuracy: 0.9980\n",
            "Epoch 78/100\n",
            "25/25 [==============================] - 0s 938us/step - loss: 0.0585 - accuracy: 0.9980\n",
            "Epoch 79/100\n",
            "25/25 [==============================] - 0s 980us/step - loss: 0.0571 - accuracy: 1.0000\n",
            "Epoch 80/100\n",
            "25/25 [==============================] - 0s 1ms/step - loss: 0.0557 - accuracy: 1.0000\n",
            "Epoch 81/100\n",
            "25/25 [==============================] - 0s 932us/step - loss: 0.0543 - accuracy: 1.0000\n",
            "Epoch 82/100\n",
            "25/25 [==============================] - 0s 976us/step - loss: 0.0530 - accuracy: 1.0000\n",
            "Epoch 83/100\n",
            "25/25 [==============================] - 0s 986us/step - loss: 0.0517 - accuracy: 1.0000\n",
            "Epoch 84/100\n",
            "25/25 [==============================] - 0s 1ms/step - loss: 0.0505 - accuracy: 1.0000\n",
            "Epoch 85/100\n",
            "25/25 [==============================] - 0s 1ms/step - loss: 0.0496 - accuracy: 1.0000\n",
            "Epoch 86/100\n",
            "25/25 [==============================] - 0s 895us/step - loss: 0.0483 - accuracy: 1.0000\n",
            "Epoch 87/100\n",
            "25/25 [==============================] - 0s 989us/step - loss: 0.0472 - accuracy: 1.0000\n",
            "Epoch 88/100\n",
            "25/25 [==============================] - 0s 995us/step - loss: 0.0461 - accuracy: 1.0000\n",
            "Epoch 89/100\n",
            "25/25 [==============================] - 0s 977us/step - loss: 0.0451 - accuracy: 1.0000\n",
            "Epoch 90/100\n",
            "25/25 [==============================] - 0s 972us/step - loss: 0.0441 - accuracy: 1.0000\n",
            "Epoch 91/100\n",
            "25/25 [==============================] - 0s 988us/step - loss: 0.0431 - accuracy: 1.0000\n",
            "Epoch 92/100\n",
            "25/25 [==============================] - 0s 1ms/step - loss: 0.0422 - accuracy: 1.0000\n",
            "Epoch 93/100\n",
            "25/25 [==============================] - 0s 987us/step - loss: 0.0414 - accuracy: 1.0000\n",
            "Epoch 94/100\n",
            "25/25 [==============================] - 0s 1ms/step - loss: 0.0405 - accuracy: 1.0000\n",
            "Epoch 95/100\n",
            "25/25 [==============================] - 0s 1ms/step - loss: 0.0397 - accuracy: 1.0000\n",
            "Epoch 96/100\n",
            "25/25 [==============================] - 0s 1ms/step - loss: 0.0389 - accuracy: 1.0000\n",
            "Epoch 97/100\n",
            "25/25 [==============================] - 0s 1ms/step - loss: 0.0380 - accuracy: 1.0000\n",
            "Epoch 98/100\n",
            "25/25 [==============================] - 0s 2ms/step - loss: 0.0373 - accuracy: 1.0000\n",
            "Epoch 99/100\n",
            "25/25 [==============================] - 0s 1ms/step - loss: 0.0367 - accuracy: 1.0000\n",
            "Epoch 100/100\n",
            "25/25 [==============================] - 0s 939us/step - loss: 0.0358 - accuracy: 1.0000\n"
          ],
          "name": "stdout"
        }
      ]
    },
    {
      "cell_type": "code",
      "metadata": {
        "id": "XlWGg52IriDO",
        "colab": {
          "base_uri": "https://localhost:8080/",
          "height": 313
        },
        "outputId": "70e98d20-3c9c-47fd-9d4a-b39f9e6814aa"
      },
      "source": [
        "plt.plot(h.history['accuracy'])\n",
        "plt.xlabel('epoch')\n",
        "plt.legend(['accuracy'])\n",
        "plt.title('accuracy')\n",
        "# our dataset is more complex so it take more epochs to reach the highest accuracy level comparing to previous example"
      ],
      "execution_count": null,
      "outputs": [
        {
          "output_type": "execute_result",
          "data": {
            "text/plain": [
              "Text(0.5, 1.0, 'accuracy')"
            ]
          },
          "metadata": {
            "tags": []
          },
          "execution_count": 40
        },
        {
          "output_type": "display_data",
          "data": {
            "image/png": "[encoded data removed]",
            "text/plain": [
              "<Figure size 432x288 with 1 Axes>"
            ]
          },
          "metadata": {
            "tags": [],
            "needs_background": "light"
          }
        }
      ]
    },
    {
      "cell_type": "code",
      "metadata": {
        "id": "0niGw6mdsIG3",
        "colab": {
          "base_uri": "https://localhost:8080/",
          "height": 313
        },
        "outputId": "be870d48-877b-4479-8894-58c7b85b5344"
      },
      "source": [
        "plt.plot(h.history['loss'])\n",
        "plt.xlabel('epoch')\n",
        "plt.legend(['loss'])\n",
        "plt.title('loss')\n",
        "# draw the loss function"
      ],
      "execution_count": null,
      "outputs": [
        {
          "output_type": "execute_result",
          "data": {
            "text/plain": [
              "Text(0.5, 1.0, 'loss')"
            ]
          },
          "metadata": {
            "tags": []
          },
          "execution_count": 42
        },
        {
          "output_type": "display_data",
          "data": {
            "image/png": "[encoded data removed]",
            "text/plain": [
              "<Figure size 432x288 with 1 Axes>"
            ]
          },
          "metadata": {
            "tags": [],
            "needs_background": "light"
          }
        }
      ]
    },
    {
      "cell_type": "code",
      "metadata": {
        "id": "AVXEQ88ys2kG"
      },
      "source": [
        "def plot_decision_boundary(X, y, model): # model contain all neutral network data, X and y are two classes.\n",
        "  x_span = np.linspace(min(X[:, 1]) -0.25 , max(X[:, 1]) + 0.25, 50 ) #: mean every single row, min(X[:, 0]) give minimum value of first column\n",
        "  # all value of the first index column, maximum horizontal value of first column\n",
        "  # from minimum horizontal coordinate to maximum horizontal coordinate\n",
        "  y_span = np.linspace(min(X[:, 1]) -0.25, max(X[:, 1]) + 0.25, 50)\n",
        "  xx, yy = np.meshgrid(x_span, y_span) # allow return coordinate matrix from (convert to 50x50 matrix)\n",
        "  xx_, yy_ = xx.ravel(), yy.ravel() # .ravel() change to one dimensional array\n",
        "  grid = np.c_[xx_, yy_]\n",
        "  pred_func = model.predict(grid)\n",
        "  z = pred_func.reshape(xx.shape)\n",
        "  plt.contourf(xx, yy, z)"
      ],
      "execution_count": null,
      "outputs": []
    },
    {
      "cell_type": "code",
      "metadata": {
        "id": "jFF0glpQtQVX",
        "colab": {
          "base_uri": "https://localhost:8080/",
          "height": 283
        },
        "outputId": "fe3a8020-4fff-447f-db45-d8f890d036ba"
      },
      "source": [
        "plot_decision_boundary(X, y, model)\n",
        "plt.scatter(X[:n_pts, 0], X[:n_pts, 1])\n",
        "plt.scatter(X[n_pts:, 0], X[n_pts:, 1])"
      ],
      "execution_count": null,
      "outputs": [
        {
          "output_type": "execute_result",
          "data": {
            "text/plain": [
              "<matplotlib.collections.PathCollection at 0x7efbd4667748>"
            ]
          },
          "metadata": {
            "tags": []
          },
          "execution_count": 45
        },
        {
          "output_type": "display_data",
          "data": {
            "image/png": "[encoded data removed]",
            "text/plain": [
              "<Figure size 432x288 with 1 Axes>"
            ]
          },
          "metadata": {
            "tags": [],
            "needs_background": "light"
          }
        }
      ]
    },
    {
      "cell_type": "code",
      "metadata": {
        "id": "83f6cBFht2I2",
        "colab": {
          "base_uri": "https://localhost:8080/",
          "height": 282
        },
        "outputId": "b5a824e8-64fe-4f65-8ebd-6ce1c3a39c3c"
      },
      "source": [
        "plot_decision_boundary(X, y, model)\n",
        "plt.scatter(X[:n_pts, 0], X[:n_pts, 1])\n",
        "plt.scatter(X[n_pts:, 0], X[n_pts:, 1])\n",
        "x = 0.1\n",
        "y = 0\n",
        "point = np.array([[x, y]])\n",
        "prediction = model.predict(point)\n",
        "plt.plot([x], [y], marker ='o', markersize = 10, color = \"red\")\n",
        "print(\"Prediction is: \", prediction)\n",
        "# there is two class 0 and 1, the prediction is 0.98 nearly 1, prediction is correct"
      ],
      "execution_count": null,
      "outputs": [
        {
          "output_type": "stream",
          "text": [
            "Prediction is:  [[0.9844722]]\n"
          ],
          "name": "stdout"
        },
        {
          "output_type": "display_data",
          "data": {
            "image/png": "[encoded data removed]",
            "text/plain": [
              "<Figure size 432x288 with 1 Axes>"
            ]
          },
          "metadata": {
            "tags": [],
            "needs_background": "light"
          }
        }
      ]
    },
    {
      "cell_type": "code",
      "metadata": {
        "id": "EGuAW1vBvJ2a"
      },
      "source": [
        ""
      ],
      "execution_count": null,
      "outputs": []
    }
  ]
}
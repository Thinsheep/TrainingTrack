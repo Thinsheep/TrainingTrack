{
  "nbformat": 4,
  "nbformat_minor": 0,
  "metadata": {
    "colab": {
      "name": "Regression.ipynb",
      "provenance": [],
      "authorship_tag": "ABX9TyNNBV1w9QmD269Qdsl8o2C3",
      "include_colab_link": true
    },
    "kernelspec": {
      "name": "python3",
      "display_name": "Python 3"
    }
  },
  "cells": [
    {
      "cell_type": "markdown",
      "metadata": {
        "id": "view-in-github",
        "colab_type": "text"
      },
      "source": [
        "<a href=\"https://colab.research.google.com/github/Thinsheep/TrainingTrack/blob/main/Regression.ipynb\" target=\"_parent\"><img src=\"https://colab.research.google.com/assets/colab-badge.svg\" alt=\"Open In Colab\"/></a>"
      ]
    },
    {
      "cell_type": "code",
      "metadata": {
        "id": "kIa2cV4_WGka"
      },
      "source": [
        "import numpy as np\n",
        "import matplotlib.pyplot as plt\n",
        "from keras.models import Sequential\n",
        "from keras.layers import Dense\n",
        "from keras.optimizers import Adam"
      ],
      "execution_count": null,
      "outputs": []
    },
    {
      "cell_type": "code",
      "metadata": {
        "colab": {
          "base_uri": "https://localhost:8080/",
          "height": 283
        },
        "id": "N7woJcjMWWyM",
        "outputId": "d7aee730-8626-45bf-eb30-fae716fc6f33"
      },
      "source": [
        "np.random.seed(0)\n",
        "points = 500\n",
        "X = np.linspace(-3, 3, points)# This line of code form a sindoil curse of point\n",
        "y = np.sin(X) + np.random.uniform(-0.5, 0.5, points)\n",
        "# the points move up/down 0.5 in the vertical range\n",
        "plt.scatter(X, y)\n",
        "# now we plan to add some noises to add more challenge to our neural network"
      ],
      "execution_count": null,
      "outputs": [
        {
          "output_type": "execute_result",
          "data": {
            "text/plain": [
              "<matplotlib.collections.PathCollection at 0x7f6344620c50>"
            ]
          },
          "metadata": {
            "tags": []
          },
          "execution_count": 21
        },
        {
          "output_type": "display_data",
          "data": {
            "image/png": "[encoded data removed]",
            "text/plain": [
              "<Figure size 432x288 with 1 Axes>"
            ]
          },
          "metadata": {
            "tags": [],
            "needs_background": "light"
          }
        }
      ]
    },
    {
      "cell_type": "code",
      "metadata": {
        "id": "usmg7VmiWY7N"
      },
      "source": [
        "model = Sequential()\n",
        "model.add(Dense(50, activation='sigmoid', input_dim=1))\n",
        "model.add(Dense(30, activation='sigmoid'))\n",
        "model.add(Dense(1))"
      ],
      "execution_count": null,
      "outputs": []
    },
    {
      "cell_type": "code",
      "metadata": {
        "colab": {
          "base_uri": "https://localhost:8080/"
        },
        "id": "iRD4DCLvZVDM",
        "outputId": "1881d0a2-d80c-4d2d-a9e2-a3a5d657add9"
      },
      "source": [
        "adam = Adam(lr =0.01)\n",
        "model.compile(loss='mse', optimizer=adam)\n",
        "# mse mean mean square error\n",
        "model.fit(X, y, epochs=50)"
      ],
      "execution_count": null,
      "outputs": [
        {
          "output_type": "stream",
          "text": [
            "Epoch 1/50\n",
            "16/16 [==============================] - 0s 1ms/step - loss: 0.4327\n",
            "Epoch 2/50\n",
            "16/16 [==============================] - 0s 2ms/step - loss: 0.2489\n",
            "Epoch 3/50\n",
            "16/16 [==============================] - 0s 1ms/step - loss: 0.2304\n",
            "Epoch 4/50\n",
            "16/16 [==============================] - 0s 1ms/step - loss: 0.2296\n",
            "Epoch 5/50\n",
            "16/16 [==============================] - 0s 1ms/step - loss: 0.2239\n",
            "Epoch 6/50\n",
            "16/16 [==============================] - 0s 1ms/step - loss: 0.2154\n",
            "Epoch 7/50\n",
            "16/16 [==============================] - 0s 1ms/step - loss: 0.2096\n",
            "Epoch 8/50\n",
            "16/16 [==============================] - 0s 1ms/step - loss: 0.2008\n",
            "Epoch 9/50\n",
            "16/16 [==============================] - 0s 1ms/step - loss: 0.1910\n",
            "Epoch 10/50\n",
            "16/16 [==============================] - 0s 1ms/step - loss: 0.1864\n",
            "Epoch 11/50\n",
            "16/16 [==============================] - 0s 1ms/step - loss: 0.1760\n",
            "Epoch 12/50\n",
            "16/16 [==============================] - 0s 1ms/step - loss: 0.1579\n",
            "Epoch 13/50\n",
            "16/16 [==============================] - 0s 1ms/step - loss: 0.1495\n",
            "Epoch 14/50\n",
            "16/16 [==============================] - 0s 1ms/step - loss: 0.1395\n",
            "Epoch 15/50\n",
            "16/16 [==============================] - 0s 1ms/step - loss: 0.1294\n",
            "Epoch 16/50\n",
            "16/16 [==============================] - 0s 1ms/step - loss: 0.1290\n",
            "Epoch 17/50\n",
            "16/16 [==============================] - 0s 1ms/step - loss: 0.1188\n",
            "Epoch 18/50\n",
            "16/16 [==============================] - 0s 2ms/step - loss: 0.1278\n",
            "Epoch 19/50\n",
            "16/16 [==============================] - 0s 1ms/step - loss: 0.1270\n",
            "Epoch 20/50\n",
            "16/16 [==============================] - 0s 1ms/step - loss: 0.1207\n",
            "Epoch 21/50\n",
            "16/16 [==============================] - 0s 2ms/step - loss: 0.1203\n",
            "Epoch 22/50\n",
            "16/16 [==============================] - 0s 1ms/step - loss: 0.1202\n",
            "Epoch 23/50\n",
            "16/16 [==============================] - 0s 1ms/step - loss: 0.1130\n",
            "Epoch 24/50\n",
            "16/16 [==============================] - 0s 1ms/step - loss: 0.1118\n",
            "Epoch 25/50\n",
            "16/16 [==============================] - 0s 2ms/step - loss: 0.1128\n",
            "Epoch 26/50\n",
            "16/16 [==============================] - 0s 1ms/step - loss: 0.1117\n",
            "Epoch 27/50\n",
            "16/16 [==============================] - 0s 2ms/step - loss: 0.1074\n",
            "Epoch 28/50\n",
            "16/16 [==============================] - 0s 1ms/step - loss: 0.1112\n",
            "Epoch 29/50\n",
            "16/16 [==============================] - 0s 1ms/step - loss: 0.1119\n",
            "Epoch 30/50\n",
            "16/16 [==============================] - 0s 1ms/step - loss: 0.1092\n",
            "Epoch 31/50\n",
            "16/16 [==============================] - 0s 2ms/step - loss: 0.1146\n",
            "Epoch 32/50\n",
            "16/16 [==============================] - 0s 2ms/step - loss: 0.1085\n",
            "Epoch 33/50\n",
            "16/16 [==============================] - 0s 1ms/step - loss: 0.1039\n",
            "Epoch 34/50\n",
            "16/16 [==============================] - 0s 1ms/step - loss: 0.1011\n",
            "Epoch 35/50\n",
            "16/16 [==============================] - 0s 1ms/step - loss: 0.1001\n",
            "Epoch 36/50\n",
            "16/16 [==============================] - 0s 1ms/step - loss: 0.1015\n",
            "Epoch 37/50\n",
            "16/16 [==============================] - 0s 1ms/step - loss: 0.1052\n",
            "Epoch 38/50\n",
            "16/16 [==============================] - 0s 1ms/step - loss: 0.1060\n",
            "Epoch 39/50\n",
            "16/16 [==============================] - 0s 1ms/step - loss: 0.1003\n",
            "Epoch 40/50\n",
            "16/16 [==============================] - 0s 1ms/step - loss: 0.1001\n",
            "Epoch 41/50\n",
            "16/16 [==============================] - 0s 1ms/step - loss: 0.1019\n",
            "Epoch 42/50\n",
            "16/16 [==============================] - 0s 1ms/step - loss: 0.0962\n",
            "Epoch 43/50\n",
            "16/16 [==============================] - 0s 2ms/step - loss: 0.0951\n",
            "Epoch 44/50\n",
            "16/16 [==============================] - 0s 1ms/step - loss: 0.0942\n",
            "Epoch 45/50\n",
            "16/16 [==============================] - 0s 1ms/step - loss: 0.0937\n",
            "Epoch 46/50\n",
            "16/16 [==============================] - 0s 1ms/step - loss: 0.0894\n",
            "Epoch 47/50\n",
            "16/16 [==============================] - 0s 1ms/step - loss: 0.0907\n",
            "Epoch 48/50\n",
            "16/16 [==============================] - 0s 1ms/step - loss: 0.0919\n",
            "Epoch 49/50\n",
            "16/16 [==============================] - 0s 1ms/step - loss: 0.0934\n",
            "Epoch 50/50\n",
            "16/16 [==============================] - 0s 1ms/step - loss: 0.0942\n"
          ],
          "name": "stdout"
        },
        {
          "output_type": "execute_result",
          "data": {
            "text/plain": [
              "<tensorflow.python.keras.callbacks.History at 0x7f6343de8ac8>"
            ]
          },
          "metadata": {
            "tags": []
          },
          "execution_count": 23
        }
      ]
    },
    {
      "cell_type": "code",
      "metadata": {
        "id": "xfN-aGJaap5e",
        "colab": {
          "base_uri": "https://localhost:8080/",
          "height": 265
        },
        "outputId": "da6af770-c4ec-426f-f896-c62004c3741e"
      },
      "source": [
        "predictions = model.predict(X)\n",
        "plt.scatter(X,y)\n",
        "plt.plot(X, predictions, 'ro')\n",
        "plt.show()"
      ],
      "execution_count": null,
      "outputs": [
        {
          "output_type": "display_data",
          "data": {
            "image/png": "[encoded data removed]",
            "text/plain": [
              "<Figure size 432x288 with 1 Axes>"
            ]
          },
          "metadata": {
            "tags": [],
            "needs_background": "light"
          }
        }
      ]
    },
    {
      "cell_type": "code",
      "metadata": {
        "id": "RyoJQMzCfbns"
      },
      "source": [
        ""
      ],
      "execution_count": null,
      "outputs": []
    }
  ]
}